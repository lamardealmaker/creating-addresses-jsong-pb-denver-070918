{
 "cells": [
  {
   "cell_type": "markdown",
   "metadata": {},
   "source": [
    "# Creating Addresses\n",
    "\n",
    "### Try it\n",
    "\n",
    "#### Find the output address corresponding to this ScriptPubKey\n",
    "```\n",
    "76a914338c84849423992471bffb1a54a8d9b1d69dc28a88ac\n",
    "```\n",
    "\n",
    "Remember the structure of pay-to-pubkey-hash (p2pkh) which has `OP_DUP OP_HASH160 <hash> OP_EQUALVERIFY OP_CHECKSIG`.\n",
    "\n",
    "You need to grab the hash160 and turn that into an address."
   ]
  },
  {
   "cell_type": "code",
   "execution_count": null,
   "metadata": {},
   "outputs": [],
   "source": [
    "from helper import h160_to_p2pkh_address\n",
    "from script import Script\n",
    "\n",
    "hex_script_pubkey = '76a914338c84849423992471bffb1a54a8d9b1d69dc28a88ac'\n",
    "\n",
    "# bytes.fromhex to get binary\n",
    "pk = bytes.fromhex(hex_script_pubkey)\n",
    "# parse with Script\n",
    "s = Script.parse(sk)\n",
    "# get the 3rd element, which should be the hash160\n",
    "\n",
    "# convert h160 to p2pkh address"
   ]
  },
  {
   "cell_type": "markdown",
   "metadata": {},
   "source": [
    "### Test Driven Exercise"
   ]
  },
  {
   "cell_type": "code",
   "execution_count": null,
   "metadata": {},
   "outputs": [],
   "source": [
    "from script import Script\n",
    "from helper import h160_to_p2sh_address\n",
    "\n",
    "class Script(Script):\n",
    "\n",
    "    def address(self, testnet=False):\n",
    "        '''Returns the address corresponding to the script'''\n",
    "        sig_type = self.type()\n",
    "        if sig_type == 'p2pkh':\n",
    "            # hash160 is the 3rd element\n",
    "            # convert to p2pkh address using h160_to_p2pkh_address (remember testnet)\n",
    "            pass\n",
    "        elif sig_type == 'p2sh':\n",
    "            # hash160 is the 2nd element\n",
    "            # convert to p2sh address using h160_to_p2sh_address (remember testnet)\n",
    "            pass"
   ]
  }
 ],
 "metadata": {
  "kernelspec": {
   "display_name": "Python 3",
   "language": "python",
   "name": "python3"
  },
  "language_info": {
   "codemirror_mode": {
    "name": "ipython",
    "version": 3
   },
   "file_extension": ".py",
   "mimetype": "text/x-python",
   "name": "python",
   "nbconvert_exporter": "python",
   "pygments_lexer": "ipython3",
   "version": "3.6.4"
  }
 },
 "nbformat": 4,
 "nbformat_minor": 2
}
