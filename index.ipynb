{
 "cells": [
  {
   "cell_type": "markdown",
   "metadata": {},
   "source": [
    "# Creating Addresses\n",
    "\n",
    "### Try it\n",
    "\n",
    "#### Find the output address corresponding to this ScriptPubKey\n",
    "```\n",
    "76a914338c84849423992471bffb1a54a8d9b1d69dc28a88ac\n",
    "```\n",
    "\n",
    "Remember the structure of pay-to-pubkey-hash (p2pkh) which has `OP_DUP OP_HASH160 <hash> OP_EQUALVERIFY OP_CHECKSIG`.\n",
    "\n",
    "You need to grab the hash160 and turn that into an address."
   ]
  },
  {
   "cell_type": "code",
   "execution_count": 2,
   "metadata": {},
   "outputs": [
    {
     "name": "stdout",
     "output_type": "stream",
     "text": [
      "15hZo812Lx266Dot6T52krxpnhrNiaqHya\n"
     ]
    }
   ],
   "source": [
    "from helper import h160_to_p2pkh_address\n",
    "from script import Script\n",
    "\n",
    "hex_script_pubkey = '76a914338c84849423992471bffb1a54a8d9b1d69dc28a88ac'\n",
    "\n",
    "# bytes.fromhex to get binary\n",
    "spk = bytes.fromhex(hex_script_pubkey)\n",
    "# parse with Script\n",
    "s = Script.parse(spk)\n",
    "# get the 3rd element, which should be the hash160\n",
    "h160 = s.elements[2]\n",
    "# convert h160 to p2pkh address\n",
    "print(h160_to_p2pkh_address(h160))"
   ]
  },
  {
   "cell_type": "markdown",
   "metadata": {},
   "source": [
    "### Test Driven Exercise"
   ]
  },
  {
   "cell_type": "code",
   "execution_count": 3,
   "metadata": {},
   "outputs": [],
   "source": []
  },
  {
   "cell_type": "code",
   "execution_count": null,
   "metadata": {},
   "outputs": [],
   "source": []
  }
 ],
 "metadata": {
  "kernelspec": {
   "display_name": "Python 3",
   "language": "python",
   "name": "python3"
  },
  "language_info": {
   "codemirror_mode": {
    "name": "ipython",
    "version": 3
   },
   "file_extension": ".py",
   "mimetype": "text/x-python",
   "name": "python",
   "nbconvert_exporter": "python",
   "pygments_lexer": "ipython3",
   "version": "3.6.4"
  }
 },
 "nbformat": 4,
 "nbformat_minor": 2
}
